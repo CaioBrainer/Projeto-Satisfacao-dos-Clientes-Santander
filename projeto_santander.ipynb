{
 "cells": [
  {
   "cell_type": "markdown",
   "id": "c1f98e5d",
   "metadata": {},
   "source": [
    "# <center> <font color='blue'> PROJETO: Prevendo o Nível de Satisfação dos Clientes do Santander"
   ]
  },
  {
   "cell_type": "markdown",
   "id": "7812f081",
   "metadata": {},
   "source": [
    "![title](imagens/projeto.png)"
   ]
  },
  {
   "cell_type": "markdown",
   "id": "a484d0e8",
   "metadata": {},
   "source": [
    "<justify> Neste projeto iremos utilizar dados dos clientes do santander para avaliar o nível de satisfação dos mesmos, tais informações serão de grande utilizade para avaliação de campanhas capazes de aumentar o nível de satisfação de clientes insatisfeitos e manter a alta satisfação dos demais. O principal desafio a nossa frente é apresentar um modelo com acurácia superior a 70% para identificar clientes insatisfeitos."
   ]
  },
  {
   "cell_type": "markdown",
   "id": "5e162fec",
   "metadata": {},
   "source": [
    "## <center> <font color='blue'> FERRAMENTAS  "
   ]
  },
  {
   "cell_type": "code",
   "execution_count": null,
   "id": "da3ecc93",
   "metadata": {},
   "outputs": [],
   "source": [
    "#Importando as bibliotecas a serem utilizadas\n",
    "\n",
    "import pandas as pd\n",
    "import numpy as np\n",
    "import matplotlib.pyplot as plt\n",
    "from sklearn.model_selection import StratifiedShuffleSplit\n",
    "from imblearn.over_sampling import SMOTE\n",
    "#from imblearn.under_sampling import \n",
    "from sklearn.decomposition import PCA\n",
    "from sklearn.preprocessing import StandardScaler\n",
    "from sklearn.ensemble import RandomForestClassifier\n",
    "import xgboost as xgb\n",
    "from sklearn.model_selection import RandomizedSearchCV\n",
    "from sklearn.model_selection import GridSearchCV\n",
    "from sklearn.model_selection import cross_val_score\n",
    "from sklearn.model_selection import cross_val_predict\n",
    "from sklearn.metrics import classification_report\n",
    "from sklearn.metrics import confusion_matrix \n",
    "from sklearn.metrics import ConfusionMatrixDisplay  \n",
    "from sklearn.metrics import roc_curve\n",
    "from sklearn.metrics import roc_auc_score\n",
    "from sklearn.utils import compute_sample_weight\n",
    "import warnings\n",
    "from scipy import stats\n",
    "from minhas_funcoes import *"
   ]
  },
  {
   "cell_type": "code",
   "execution_count": null,
   "id": "d1ba40de",
   "metadata": {},
   "outputs": [],
   "source": [
    "warnings.filterwarnings(\"ignore\")\n",
    "plt.rcParams.update({'font.size': 14})"
   ]
  },
  {
   "cell_type": "markdown",
   "id": "e9ad2818",
   "metadata": {},
   "source": [
    "## <center> <font color='blue'> ANÁLISE EXPLORATÓRIA DOS DADOS"
   ]
  },
  {
   "cell_type": "code",
   "execution_count": null,
   "id": "1a696f34",
   "metadata": {},
   "outputs": [],
   "source": [
    "#Carregando os dados\n",
    "#iremos carregar os dados em um df para realizar análise exploratória\n",
    "\n",
    "df = pd.read_csv(\"datasets/train.csv\")"
   ]
  },
  {
   "cell_type": "code",
   "execution_count": null,
   "id": "f4ce05f8",
   "metadata": {
    "scrolled": true
   },
   "outputs": [],
   "source": [
    "#O dataset é constituido por 371 variáveis preditoras e 76020 observações\n",
    "\n",
    "df.shape"
   ]
  },
  {
   "cell_type": "code",
   "execution_count": null,
   "id": "111cbb59",
   "metadata": {
    "scrolled": true
   },
   "outputs": [],
   "source": [
    "#Cinco primeiras observações\n",
    "\n",
    "df.head()"
   ]
  },
  {
   "cell_type": "markdown",
   "id": "af72b1f4",
   "metadata": {},
   "source": [
    "<justify>O dataset apresenta um elevado número de variváveis (370), o que pode ser levemente problemático..."
   ]
  },
  {
   "cell_type": "code",
   "execution_count": null,
   "id": "94da96c8",
   "metadata": {},
   "outputs": [],
   "source": [
    "#A variável ID presente no dataset não apresenta nenhuma informação relevante para a análise de satsfação, dito isto \n",
    "#iremos excluir\n",
    "df = df.iloc[:,1:]\n",
    "df.head()"
   ]
  },
  {
   "cell_type": "code",
   "execution_count": null,
   "id": "09e42c23",
   "metadata": {
    "scrolled": true
   },
   "outputs": [],
   "source": [
    "df.describe()"
   ]
  },
  {
   "cell_type": "code",
   "execution_count": null,
   "id": "cffe8b25",
   "metadata": {
    "scrolled": false
   },
   "outputs": [],
   "source": [
    "#Distribuição da variável alvo\n",
    "df[\"TARGET\"].value_counts().sort_index()"
   ]
  },
  {
   "cell_type": "markdown",
   "id": "df4c3a12",
   "metadata": {},
   "source": [
    "A variável alvo em nosso estudo encontra se extremamente desbalanceada"
   ]
  },
  {
   "cell_type": "code",
   "execution_count": null,
   "id": "b3e5705d",
   "metadata": {
    "scrolled": false
   },
   "outputs": [],
   "source": [
    "#Graficamente\n",
    "plt.subplots(figsize=(8,8))\n",
    "plt.hist(df[\"TARGET\"], facecolor='b', alpha=1)\n",
    "plt.xlabel('Satisfação')\n",
    "plt.ylabel('Observações')\n",
    "plt.title('Histograma de satisfação dos clientes Santander')\n",
    "plt.xlim(0, 1)\n",
    "plt.ylim(0, 80000)\n",
    "plt.grid(False)\n",
    "plt.show()"
   ]
  },
  {
   "cell_type": "markdown",
   "id": "c86dbd17",
   "metadata": {},
   "source": [
    "O nível de satisfação é representado pelos valores numéricos 0 e 1, onde 0 representa os clientes satisfeitos e 1 os clientes insatisfeitos com os serviços do Santander."
   ]
  },
  {
   "cell_type": "code",
   "execution_count": null,
   "id": "11784784",
   "metadata": {},
   "outputs": [],
   "source": [
    "X = df.iloc[:,0:271]\n",
    "y = pd.DataFrame(df[\"TARGET\"])"
   ]
  },
  {
   "cell_type": "code",
   "execution_count": null,
   "id": "abf3e501",
   "metadata": {},
   "outputs": [],
   "source": [
    "#Nome das colunas do dataframe\n",
    "coluna = X.columns\n",
    "\n",
    "#localizando indices dos outliers\n",
    "indices_out = tratamento_outliers(X, coluna)\n",
    "\n",
    "#removendo outliers de acordo com o Z-escore\n",
    "x_s_out = X.drop(indices_out)\n",
    "y_s_out = y.drop(indices_out)"
   ]
  },
  {
   "cell_type": "code",
   "execution_count": null,
   "id": "57c7e7b2",
   "metadata": {},
   "outputs": [],
   "source": [
    "#Iremos separar os dados entre treino e teste para assim balancearmos as classes alvo no dataset de treino através do SMOTE \n",
    "#(Synthetic Minority Oversampling Technique) e evitarmos problemas posteriores.\n",
    "\n",
    "split = StratifiedShuffleSplit(n_splits=1, test_size=0.25, random_state=42)\n",
    "\n",
    "for train_index, test_index in split.split(x_s_out, y_s_out):\n",
    "    X_treino, X_teste = X.loc[train_index], X.loc[test_index]\n",
    "    y_treino, y_teste = y.loc[train_index], y.loc[test_index]"
   ]
  },
  {
   "cell_type": "code",
   "execution_count": null,
   "id": "1a75cccf",
   "metadata": {},
   "outputs": [],
   "source": [
    "#escalonando as variáveis de treino\n",
    "\n",
    "escalonador = StandardScaler()\n",
    "X_treino_esc = escalonador.fit_transform(X_treino)"
   ]
  },
  {
   "cell_type": "code",
   "execution_count": null,
   "id": "6ecfec73",
   "metadata": {},
   "outputs": [],
   "source": [
    "peso_classe_balanceado = compute_sample_weight(\"balanced\", y_treino)\n",
    "peso_classe_ = compute_sample_weight({0:1, 1:30}, y_treino)"
   ]
  },
  {
   "cell_type": "markdown",
   "id": "fdb68a4f",
   "metadata": {},
   "source": [
    "## <center> <font color='blue'> TRABALHANDO A QUESTÃO DA DIMENSIONALIDADE"
   ]
  },
  {
   "cell_type": "code",
   "execution_count": null,
   "id": "3fd9c101",
   "metadata": {},
   "outputs": [],
   "source": [
    "treino_pca(random_forest, X_treino, X_teste, y_treino, y_teste, taxa_de_variancia=10)"
   ]
  },
  {
   "cell_type": "code",
   "execution_count": null,
   "id": "7986c0bc",
   "metadata": {},
   "outputs": [],
   "source": [
    "diagrama_variancia(X_treino, 10)"
   ]
  },
  {
   "cell_type": "markdown",
   "id": "6485d9c8",
   "metadata": {},
   "source": [
    "## <center> <font color='blue'> TREINANDO MODELO RANDOM FOREST BASE"
   ]
  },
  {
   "cell_type": "code",
   "execution_count": null,
   "id": "568816a1",
   "metadata": {},
   "outputs": [],
   "source": [
    "random_forest = RandomForestClassifier(n_estimators=100, n_jobs=-1, random_state=42)\n",
    "random_forest.fit(X_treino, np.ravel(y_treino));"
   ]
  },
  {
   "cell_type": "code",
   "execution_count": null,
   "id": "01aa3851",
   "metadata": {},
   "outputs": [],
   "source": [
    "plot_multiple_cm(random_forest, X_treino, X_teste, y_treino, y_teste)"
   ]
  },
  {
   "cell_type": "markdown",
   "id": "7874922e",
   "metadata": {},
   "source": [
    "### <center> <font color='blue'> GRID search\n"
   ]
  },
  {
   "cell_type": "code",
   "execution_count": null,
   "id": "48dad1e3",
   "metadata": {},
   "outputs": [],
   "source": [
    "param_grid_forest = [{'bootstrap': [False],\n",
    "                      'criterion': ['entropy'],\n",
    "                      'n_estimators': [300, 500], \n",
    "                      'max_features': [3, 6, 9],\n",
    "                      'max_depth': [4, 6, 8, 10]}]\n",
    "\n",
    "\n",
    "grid_search_forest = GridSearchCV(random_forest, param_grid_forest, cv = 3, scoring = 'accuracy',\n",
    "                                  return_train_score = True, n_jobs=-1)\n",
    "\n",
    "grid_search_forest.fit(X_treino, np.ravel(y_treino), sample_weight=peso_classe)"
   ]
  },
  {
   "cell_type": "code",
   "execution_count": null,
   "id": "6a96e925",
   "metadata": {},
   "outputs": [],
   "source": [
    "best_random_forest = RandomForestClassifier(bootstrap=False, criterion='entropy', max_depth=4,\n",
    "                       max_features=3, n_estimators=300, n_jobs=-1,\n",
    "                       random_state=42)\n",
    "\n",
    "best_random_forest.fit(X_treino, np.ravel(y_treino), sample_weight=peso_classe)"
   ]
  },
  {
   "cell_type": "code",
   "execution_count": null,
   "id": "0ba665c3",
   "metadata": {},
   "outputs": [],
   "source": [
    "plot_multiple_cm(best_random_forest, X_treino, X_teste, y_treino, y_teste)\n",
    "#plt.savefig(\"cm.jpeg\")"
   ]
  },
  {
   "cell_type": "markdown",
   "id": "dada0bb8",
   "metadata": {},
   "source": [
    "## <center> <font color='blue'> TREINANDO MODELO XGBOOST"
   ]
  },
  {
   "cell_type": "code",
   "execution_count": null,
   "id": "7e7f2121",
   "metadata": {},
   "outputs": [],
   "source": [
    "xgb_base = xgb.XGBClassifier(use_label_encoder=False, random_state=42, eval_metric='logloss') #scale_pos_weight=24\n"
   ]
  },
  {
   "cell_type": "code",
   "execution_count": null,
   "id": "ad04b1f1",
   "metadata": {},
   "outputs": [],
   "source": [
    "xgb_base.fit(X_treino,np.ravel(y_treino))"
   ]
  },
  {
   "cell_type": "code",
   "execution_count": null,
   "id": "9ba5b1b4",
   "metadata": {
    "scrolled": false
   },
   "outputs": [],
   "source": [
    "plot_multiple_cm(xgb_base, X_treino, X_teste, y_treino, y_teste)"
   ]
  },
  {
   "cell_type": "markdown",
   "id": "b8da735e",
   "metadata": {},
   "source": [
    "### <center> <font color='blue'> GRID search"
   ]
  },
  {
   "cell_type": "code",
   "execution_count": null,
   "id": "79436f25",
   "metadata": {},
   "outputs": [],
   "source": [
    "params={'learning_rate' : [0.25,0.30,0.35], 'max_depth' : [4, 6, 8, 10],\n",
    " 'gamma': [ 0.0, 0.3, 0.5 ],      \n",
    " 'eval_metric': ['error']\n",
    "}\n",
    "\n",
    "grid_search_xgb = GridSearchCV(xgb_base,param_grid=params,n_jobs=-1,cv=3,verbose=2)"
   ]
  },
  {
   "cell_type": "code",
   "execution_count": null,
   "id": "d9f9ed02",
   "metadata": {},
   "outputs": [],
   "source": [
    "grid_search_xgb.fit(X_treino,np.ravel(y_treino))"
   ]
  },
  {
   "cell_type": "code",
   "execution_count": null,
   "id": "d6ff47a8",
   "metadata": {},
   "outputs": [],
   "source": [
    "xgb_best  = xgb.XGBClassifier(base_score=0.5, booster='gbtree', colsample_bylevel=1,\n",
    "               colsample_bynode=1, colsample_bytree=1, enable_categorical=False,\n",
    "               eval_metric='logloss', gamma=0.0, gpu_id=-1, importance_type=None,\n",
    "               interaction_constraints='', learning_rate=0.25, max_delta_step=0,\n",
    "               max_depth=4, min_child_weight=1,\n",
    "               monotone_constraints='()', n_estimators=100, n_jobs=8,\n",
    "               num_parallel_tree=1, predictor='auto', random_state=42,\n",
    "               reg_alpha=0, reg_lambda=1, scale_pos_weight=1, subsample=1,\n",
    "               tree_method='exact', use_label_encoder=False,\n",
    "               validate_parameters=1, verbosity=None)"
   ]
  },
  {
   "cell_type": "code",
   "execution_count": null,
   "id": "169e4982",
   "metadata": {},
   "outputs": [],
   "source": [
    "xgb_best.fit(X_treino, y_treino, sample_weight=peso_classe2)"
   ]
  },
  {
   "cell_type": "code",
   "execution_count": null,
   "id": "f0379830",
   "metadata": {
    "scrolled": false
   },
   "outputs": [],
   "source": [
    "plot_multiple_cm(xgb_best, X_treino, X_teste, y_treino, y_teste)"
   ]
  }
 ],
 "metadata": {
  "kernelspec": {
   "display_name": "Python 3 (ipykernel)",
   "language": "python",
   "name": "python3"
  },
  "language_info": {
   "codemirror_mode": {
    "name": "ipython",
    "version": 3
   },
   "file_extension": ".py",
   "mimetype": "text/x-python",
   "name": "python",
   "nbconvert_exporter": "python",
   "pygments_lexer": "ipython3",
   "version": "3.9.7"
  }
 },
 "nbformat": 4,
 "nbformat_minor": 5
}
